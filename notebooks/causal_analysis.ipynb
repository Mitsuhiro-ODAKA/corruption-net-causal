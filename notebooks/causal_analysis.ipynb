{
  "nbformat": 4,
  "nbformat_minor": 0,
  "metadata": {
    "colab": {
      "provenance": []
    },
    "kernelspec": {
      "name": "python3",
      "display_name": "Python 3"
    },
    "language_info": {
      "name": "python"
    }
  },
  "cells": [
    {
      "cell_type": "markdown",
      "source": [
        "# Causal and Network Analysis of Government Procurement Data with Corruption Perception Indices\n",
        "\n",
        "### Set up Python Environment"
      ],
      "metadata": {
        "id": "-V4cRDNc_40y"
      }
    },
    {
      "cell_type": "code",
      "execution_count": 5,
      "metadata": {
        "id": "_9wh0M9WxYWX"
      },
      "outputs": [],
      "source": [
        "import os\n",
        "os.chdir(\"drive/MyDrive/GDrive_Private/corruption-net-causal/\")"
      ]
    },
    {
      "cell_type": "code",
      "source": [
        "!pip install -r requirements.txt"
      ],
      "metadata": {
        "id": "DrYmPo59x9nI"
      },
      "execution_count": null,
      "outputs": []
    },
    {
      "cell_type": "markdown",
      "source": [
        "### 1. Preprocess Contracts with Spark\n",
        "Objective\n",
        "- 元の JSON（contracts.json）を読み込み\n",
        "- 「調達元（bureau）」「受注先（supplier）」のペアを「行」に展開（explode）\n",
        "- bureau から正規表現で国名（country）を取り出し、列に追加\n",
        "- 最終的に \"bureau\",\"supplier\",\"country\" の CSV ファイル（または Parquet）として出力\n",
        "\n",
        "Key Points\n",
        "- explode：JSON 内の「配列」を“縦に伸ばして”テーブル化する操作\n",
        "- regexp_extract + initcap：gov_japan→japanを抜き出し、Japan に変換\n",
        "- これにより、後段の分析で「国ごと」「企業ごと」にグループ化しやすい形式が得られる"
      ],
      "metadata": {
        "id": "v1-_WAg5_-RD"
      }
    },
    {
      "cell_type": "code",
      "source": [
        "!python spark/process_contracts.py --input data/contracts.json --output data/processed_contracts.parquet"
      ],
      "metadata": {
        "colab": {
          "base_uri": "https://localhost:8080/"
        },
        "id": "0yK8VYxMx-9S",
        "outputId": "8556996d-ee93-405d-fb9a-02762d60c224"
      },
      "execution_count": 28,
      "outputs": [
        {
          "output_type": "stream",
          "name": "stdout",
          "text": [
            "Setting default log level to \"WARN\".\n",
            "To adjust logging level use sc.setLogLevel(newLevel). For SparkR, use setLogLevel(newLevel).\n",
            "25/05/30 12:54:19 WARN NativeCodeLoader: Unable to load native-hadoop library for your platform... using builtin-java classes where applicable\n",
            "25/05/30 12:54:21 WARN Utils: Service 'SparkUI' could not bind on port 4040. Attempting port 4041.\n"
          ]
        }
      ]
    },
    {
      "cell_type": "code",
      "source": [
        "from pyspark.sql import SparkSession\n",
        "from pyspark.sql.functions import col, explode\n",
        "\n",
        "# セッション作成\n",
        "spark = SparkSession.builder.appName(\"ValidateStructure\").getOrCreate()\n",
        "\n",
        "# JSON読み込み（multiline = true）\n",
        "df = spark.read.option(\"multiline\", \"true\").json(\"data/contracts.json\")\n",
        "\n",
        "# awards を展開\n",
        "exploded = df.select(\n",
        "    col(\"buyer.id\").alias(\"bureau\"),\n",
        "    explode(\"awards\").alias(\"award\")\n",
        ")\n",
        "\n",
        "# supplier.id を抽出（edgesを定義）\n",
        "edges = exploded.select(\n",
        "    \"bureau\",\n",
        "    col(\"award.supplier.id\").alias(\"supplier\")\n",
        ")\n",
        "\n",
        "# 確認\n",
        "edges.printSchema()\n",
        "edges.show(truncate=False)\n"
      ],
      "metadata": {
        "colab": {
          "base_uri": "https://localhost:8080/"
        },
        "id": "3nnhafc_zgAW",
        "outputId": "a71ba259-c3f9-45c7-fd52-fadfd81f6532"
      },
      "execution_count": 29,
      "outputs": [
        {
          "output_type": "stream",
          "name": "stdout",
          "text": [
            "root\n",
            " |-- bureau: string (nullable = true)\n",
            " |-- supplier: string (nullable = true)\n",
            "\n",
            "+-----------+-------------------+\n",
            "|bureau     |supplier           |\n",
            "+-----------+-------------------+\n",
            "|gov_japan  |corp_global        |\n",
            "|gov_japan  |corp_mitsui        |\n",
            "|gov_japan  |corp_hitachi       |\n",
            "|gov_kenya  |corp_global        |\n",
            "|gov_kenya  |corp_nairobi       |\n",
            "|gov_kenya  |corp_kenya_energy  |\n",
            "|gov_mexico |corp_global        |\n",
            "|gov_mexico |corp_mexico_telecom|\n",
            "|gov_mexico |corp_mexico_health |\n",
            "|gov_mexico |corp_mexico_energy |\n",
            "|gov_germany|corp_siemens       |\n",
            "|gov_germany|corp_bmw           |\n",
            "|gov_germany|corp_global        |\n",
            "|gov_india  |corp_tcs           |\n",
            "|gov_india  |corp_global        |\n",
            "|gov_india  |corp_health        |\n",
            "|gov_france |corp_global        |\n",
            "|gov_france |corp_defense       |\n",
            "|gov_france |corp_health        |\n",
            "|gov_brazil |corp_agriculture   |\n",
            "+-----------+-------------------+\n",
            "only showing top 20 rows\n",
            "\n"
          ]
        }
      ]
    },
    {
      "cell_type": "code",
      "source": [
        "import pandas as pd\n",
        "\n",
        "# Parquet から読み込み\n",
        "df = pd.read_csv(\"data/processed_contracts.parquet/part-00000-83c48ef3-34ac-48eb-bd65-6c6770f62511-c000.csv\")\n",
        "\n",
        "# bureau (\"gov_japan\" など) から country を抜き出す\n",
        "df[\"country\"] = (\n",
        "    df[\"bureau\"]\n",
        "      .str.extract(r\"gov_(.+)\", expand=False)  # \"japan\"\n",
        "      .str.capitalize()                         # \"Japan\"\n",
        ")\n",
        "\n",
        "# Colab 用に保存\n",
        "df.to_csv(\"data/processed_contracts_for_colab.csv\", index=False)\n"
      ],
      "metadata": {
        "id": "q4Rr84SnzgJA"
      },
      "execution_count": 31,
      "outputs": []
    },
    {
      "cell_type": "markdown",
      "source": [
        "### 2. Build Network in Neo4j\n",
        "🧩 Using Neo4j Desktop to Load CSV and Execute Cypher\n",
        "\n",
        "Objective\n",
        "- Neo4j に CSV をインポートし、Buyer（政府機関）と Supplier（企業）のノードを作成\n",
        "- [:AWARDED] リレーション（受注関係）でエッジをつなぐ\n",
        "- GDS（Graph Data Science）プラグインを使い、\n",
        "  - degree centrality（単純な「つながりの多さ」）\n",
        "  - PageRank（グラフ理論で使う「重要度スコア」）\n",
        "- をそれぞれノード属性として書き込む\n",
        "\n",
        "Key Points\n",
        "- グラフデータベース：ノード（点）とエッジ（線）で関係性を扱うデータベース\n",
        "- Degree centrality：あるノードが何本の線に繋がっているかを比率化したもの\n",
        "- PageRank：Google の検索順位にも使われる、つながる相手の重要度も踏まえたスコア"
      ],
      "metadata": {
        "id": "7jVcL_uQdyrR"
      }
    },
    {
      "cell_type": "markdown",
      "source": [
        "#### Step 1: Install and Launch Neo4j Desktop\n",
        "\n",
        "- Download from: https://neo4j.com/download/\n",
        "- Create a new local project and database (e.g., `corruption-net`)\n",
        "- Start the database"
      ],
      "metadata": {
        "id": "e72WviBXBUu5"
      }
    },
    {
      "cell_type": "markdown",
      "source": [
        "\n",
        "#### Step 2: Add CSV Files\n",
        "Share the `processed_contracts.csv` (i.e., output from Spark) on the Google Drive and get the ID (xxxxxxxxxxxxxxx) from sharable link. Then, manually paste the following link for creating virtual graph: https://drive.google.com/uc?export=download&id=xxxxxxxxxxxxxxx\n",
        "\n",
        "```cypher\n",
        "// 既存の仮想グラフがあれば削除（オプション）\n",
        "MATCH (n) DETACH DELETE n;\n",
        "CALL gds.graph.list() YIELD graphName;\n",
        "CALL gds.graph.drop('contractGraph', true);\n",
        "\n",
        "// 仮想グラフ作成\n",
        "LOAD CSV WITH HEADERS FROM 'https://drive.google.com/uc?export=download&id=119YKikkrBq_GiZvvpu4c8F00mumPE_uL'\n",
        "AS row\n",
        "MERGE (s:Supplier {id: row.supplier})\n",
        "  ON CREATE SET s.country = row.country\n",
        "  ON MATCH SET s.country  = coalesce(s.country, row.country)\n",
        "MERGE (b:Buyer    {id: row.bureau})\n",
        "MERGE (b)-[:AWARDED]->(s);\n",
        "\n",
        "CALL gds.graph.project('contractGraph', ['Buyer', 'Supplier'], {\n",
        "  AWARDED: {\n",
        "    type: 'AWARDED',\n",
        "    orientation: 'UNDIRECTED'\n",
        "  }\n",
        "});\n",
        "\n",
        "// 中心性を計算\n",
        "CALL gds.degree.write('contractGraph', {\n",
        "  writeProperty: 'degree'\n",
        "});\n",
        "\n",
        "// ページランクを計算\n",
        "CALL gds.pageRank.write('contractGraph', {\n",
        "  maxIterations: 20,\n",
        "  dampingFactor: 0.85,\n",
        "  writeProperty: 'pagerank'\n",
        "});\n",
        "\n",
        "```"
      ],
      "metadata": {
        "id": "zOH3pflcAPTB"
      }
    },
    {
      "cell_type": "markdown",
      "source": [
        "Neo4jで中心性を取得（Cypher）\n",
        "```cypher\n",
        "MATCH (s:Supplier)\n",
        "RETURN s.id AS supplier, s.country AS country, s.pagerank AS pagerank, s.degree AS degree\n",
        "ORDER BY s.pagerank DESC;\n",
        "```\n",
        "結果テーブルの右上「⋮」から 「Download CSV」 を選び、supplier_degree.csv などとして保存。Google Drive のresults下にアップロード。\n"
      ],
      "metadata": {
        "id": "sogFU2EiFlI_"
      }
    },
    {
      "cell_type": "markdown",
      "source": [
        "### 3. Causal Inference with DoWhy (Google Colab)\n",
        "\n",
        "Define treatment (e.g., `centrality`), outcome (e.g., `CPI`), and run estimation using DoWhy\n",
        "\n",
        "Objective\n",
        "- Neo4j で得た中心性スコア（たとえば pagerank）を「処置変数（treatment）」、CPI（Corruption Perception Index）を「結果変数（outcome）」として、因果関係の強さ（推定効果）を複数手法で比較\n",
        "\n",
        "モデル\n",
        "- 線形回帰: 連続値の pagerank と CPI の直線的な関係を当てはめる\n",
        "- PSM（傾向スコアマッチング）:処置（高い vs 低い pagerank）を二値化し、似た条件同士を比較(「似たような背景の人同士をペアにして効果を比べる」)\n",
        "- ForestDML（MetaLearner）: 因果森林と呼ばれる機械学習モデルで非線形／複雑な関係も検出可能。(「たくさんの木を育てて、その木々の判断を平均して予測する」)"
      ],
      "metadata": {
        "id": "CEG17wnpAuqR"
      }
    },
    {
      "cell_type": "code",
      "source": [
        "import pandas as pd\n",
        "\n",
        "# Google Drive連携\n",
        "from google.colab import drive\n",
        "drive.mount('/content/drive')\n",
        "\n",
        "# データ読み込み\n",
        "deg = pd.read_csv(\"results/supplier_degree.csv\")\n",
        "# cpi = pd.read_csv(\"data/corruption_scores.csv\")\n",
        "YEAR = 2017\n",
        "import pandas as pd\n",
        "df = pd.read_csv(\"data/corruption_scores.csv\", sep=\",\", encoding=\"utf-8\")\n",
        "cpi = pd.DataFrame({\n",
        "    \"country\":df[\"country\"],\n",
        "    \"cpi_score\": df[str(YEAR)]\n",
        "})"
      ],
      "metadata": {
        "colab": {
          "base_uri": "https://localhost:8080/"
        },
        "id": "fNfwJ_sgPkqp",
        "outputId": "1c9d2dd7-1941-4aa8-c528-bb16503587c3"
      },
      "execution_count": 32,
      "outputs": [
        {
          "output_type": "stream",
          "name": "stdout",
          "text": [
            "Drive already mounted at /content/drive; to attempt to forcibly remount, call drive.mount(\"/content/drive\", force_remount=True).\n"
          ]
        }
      ]
    },
    {
      "cell_type": "code",
      "source": [
        "# 仮に supplier ID に国名が含まれている場合（例：corp_mitsui → Japan）簡易マッピング\n",
        "# deg[\"country\"] = deg[\"s.country\"].str.extract(r\"_(\\w+)$\")  # 例: \"corp_japan\" → \"japan\"\n",
        "\n",
        "# 結合\n",
        "merged = pd.merge(deg, cpi, on=\"country\")"
      ],
      "metadata": {
        "id": "WFNf5rIL0JJf"
      },
      "execution_count": 33,
      "outputs": []
    },
    {
      "cell_type": "code",
      "source": [
        "print(\"Merged shape:\", merged.shape)\n",
        "print(merged.head())"
      ],
      "metadata": {
        "colab": {
          "base_uri": "https://localhost:8080/"
        },
        "id": "oYBk849v7bKY",
        "outputId": "16c29bb4-5954-4b0f-ea72-f3fb9a0c1175"
      },
      "execution_count": 34,
      "outputs": [
        {
          "output_type": "stream",
          "name": "stdout",
          "text": [
            "Merged shape: (23, 5)\n",
            "       supplier country  pagerank  degree  cpi_score\n",
            "0   corp_global   Japan  3.622239    10.0        7.3\n",
            "1   corp_global   Japan  3.622239    10.0        0.0\n",
            "2   corp_health   India  1.085439     3.0        4.0\n",
            "3  corp_defense  France  0.801503     2.0        7.0\n",
            "4  corp_defense  France  0.801503     2.0        0.0\n"
          ]
        }
      ]
    },
    {
      "cell_type": "code",
      "source": [
        "# 結合と前処理\n",
        "merged = merged.dropna(subset=[\"pagerank\", \"cpi_score\"])\n",
        "\n",
        "# 確認\n",
        "print(merged.shape)\n",
        "print(merged[[\"pagerank\", \"cpi_score\"]])\n",
        "\n",
        "# 推定\n",
        "from dowhy import CausalModel\n",
        "\n",
        "model = CausalModel(\n",
        "    data=merged,\n",
        "    treatment=\"pagerank\",\n",
        "    outcome=\"cpi_score\",\n",
        "    common_causes=[]\n",
        ")\n",
        "identified_estimand = model.identify_effect()\n",
        "estimate = model.estimate_effect(\n",
        "    identified_estimand,\n",
        "    method_name=\"backdoor.linear_regression\"\n",
        ")\n",
        "print(\"Estimated effect:\", estimate.value)\n"
      ],
      "metadata": {
        "colab": {
          "base_uri": "https://localhost:8080/"
        },
        "id": "RPsizPuo6tZJ",
        "outputId": "78ff246f-3e66-4e32-8e02-0e5711938387"
      },
      "execution_count": 35,
      "outputs": [
        {
          "output_type": "stream",
          "name": "stdout",
          "text": [
            "(23, 5)\n",
            "    pagerank  cpi_score\n",
            "0   3.622239        7.3\n",
            "1   3.622239        0.0\n",
            "2   1.085439        4.0\n",
            "3   0.801503        7.0\n",
            "4   0.801503        0.0\n",
            "5   0.786918        3.7\n",
            "6   0.786918        2.7\n",
            "7   0.530296        7.3\n",
            "8   0.530296        0.0\n",
            "9   0.530296        7.3\n",
            "10  0.530296        0.0\n",
            "11  0.530296        2.8\n",
            "12  0.530296        2.8\n",
            "13  0.530296        8.1\n",
            "14  0.530296        8.1\n",
            "15  0.529081        2.9\n",
            "16  0.529081        2.9\n",
            "17  0.529081        2.9\n",
            "18  0.492940        3.7\n",
            "19  0.492940        3.7\n",
            "20  0.486945        3.7\n",
            "21  0.486945        2.7\n",
            "22  0.476903        4.0\n"
          ]
        },
        {
          "output_type": "stream",
          "name": "stderr",
          "text": [
            "WARNING:dowhy.causal_model:Causal Graph not provided. DoWhy will construct a graph based on data inputs.\n",
            "WARNING:dowhy.causal_model:There are an additional 3 variables in the dataset that are not in the graph. Variable names are: '['country', 'degree', 'supplier']'\n"
          ]
        },
        {
          "output_type": "stream",
          "name": "stdout",
          "text": [
            "Estimated effect: -0.07554776378920547\n"
          ]
        },
        {
          "output_type": "stream",
          "name": "stderr",
          "text": [
            "/usr/local/lib/python3.11/dist-packages/dowhy/causal_estimators/regression_estimator.py:131: FutureWarning: Series.__getitem__ treating keys as positions is deprecated. In a future version, integer keys will always be treated as labels (consistent with DataFrame behavior). To access a value by position, use `ser.iloc[pos]`\n",
            "  intercept_parameter = self.model.params[0]\n"
          ]
        }
      ]
    },
    {
      "cell_type": "code",
      "source": [
        "import matplotlib.pyplot as plt\n",
        "\n",
        "x = merged[\"pagerank\"]\n",
        "y = merged[\"cpi_score\"]\n",
        "labels = merged[\"country\"]\n",
        "\n",
        "fig, ax = plt.subplots()\n",
        "ax.scatter(x, y)\n",
        "\n",
        "# 各点にラベルを付与\n",
        "for i, label in enumerate(labels):\n",
        "    ax.annotate(\n",
        "        label,\n",
        "        (x.iat[i], y.iat[i]),\n",
        "        textcoords=\"offset points\",\n",
        "        xytext=(5, 5),\n",
        "        ha=\"left\"\n",
        "    )\n",
        "\n",
        "ax.set_xlabel(\"Network Centrality (pagerank)\")\n",
        "ax.set_ylabel(\"Corruption Perception Index\")\n",
        "ax.set_title(\"Pagerank vs CPI Score with Country Labels\")\n",
        "ax.grid(True)\n",
        "plt.tight_layout()\n",
        "plt.show()\n"
      ],
      "metadata": {
        "colab": {
          "base_uri": "https://localhost:8080/",
          "height": 487
        },
        "id": "Uu9XUVIp648R",
        "outputId": "c9092421-0a6e-478a-f0de-c5130c75642e"
      },
      "execution_count": 36,
      "outputs": [
        {
          "output_type": "display_data",
          "data": {
            "text/plain": [
              "<Figure size 640x480 with 1 Axes>"
            ],
            "image/png": "[encoded data removed]"
          },
          "metadata": {}
        }
      ]
    },
    {
      "cell_type": "code",
      "source": [
        "# 1) 二値化\n",
        "merged[\"treatment_bin\"] = (merged[\"pagerank\"] > merged[\"pagerank\"].median()).astype(int)\n",
        "\n",
        "# 2) common_causes に degree を指定\n",
        "common = [\"degree\"]\n",
        "\n",
        "# 3) 手法ごとの設定\n",
        "methods = {\n",
        "    \"Regression (continuous)\": {\n",
        "        \"treatment\": \"pagerank\",\n",
        "        \"method\":    \"backdoor.linear_regression\"\n",
        "    },\n",
        "    \"PSM (binary)\": {\n",
        "        \"treatment\": \"treatment_bin\",\n",
        "        \"method\":    \"backdoor.propensity_score_matching\"\n",
        "    },\n",
        "    \"MetaLearner\": {\n",
        "        \"treatment\": \"pagerank\",\n",
        "        \"method\":    \"backdoor.econml.dml.CausalForestDML\"\n",
        "    }\n",
        "}\n",
        "\n",
        "results = []\n",
        "for country in merged[\"country\"].unique():\n",
        "    subset = merged[merged[\"country\"] == country]\n",
        "    for label, cfg in methods.items():\n",
        "        model = CausalModel(\n",
        "            data=subset,\n",
        "            treatment=cfg[\"treatment\"],\n",
        "            outcome=\"cpi_score\",\n",
        "            common_causes=common\n",
        "        )\n",
        "        estimand = model.identify_effect()\n",
        "        # PSM のみ例外的に fallback を設定\n",
        "        try:\n",
        "            est = model.estimate_effect(estimand, method_name=cfg[\"method\"])\n",
        "        except Exception:\n",
        "            est = model.estimate_effect(\n",
        "                estimand,\n",
        "                method_name=\"backdoor.linear_regression\"\n",
        "            )\n",
        "        results.append({\n",
        "            \"country\":  country,\n",
        "            \"method\":   label,\n",
        "            \"estimate\": est.value\n",
        "        })\n",
        "\n",
        "df_res = pd.DataFrame(results)\n"
      ],
      "metadata": {
        "id": "E60zGsRBcAt0"
      },
      "execution_count": null,
      "outputs": []
    },
    {
      "cell_type": "code",
      "source": [
        "import warnings\n",
        "import logging\n",
        "\n",
        "# ———— ワーニング全般を非表示 ————\n",
        "warnings.filterwarnings(\"ignore\")\n",
        "\n",
        "# ———— 各種ライブラリのログレベルをERRORに設定 ————\n",
        "logging.getLogger(\"py4j\").setLevel(logging.ERROR)\n",
        "logging.getLogger(\"dowhy\").setLevel(logging.ERROR)\n",
        "logging.getLogger(\"econml\").setLevel(logging.ERROR)\n",
        "logging.getLogger(\"matplotlib\").setLevel(logging.ERROR)\n",
        "logging.getLogger(\"sklearn\").setLevel(logging.ERROR)\n",
        "\n",
        "import pandas as pd\n",
        "from dowhy import CausalModel\n",
        "import matplotlib.pyplot as plt\n",
        "\n",
        "# merged: country, pagerank, cpi_score, degree, treatment_bin カラムを持つ DataFrame\n",
        "\n",
        "# 各推定手法と method_name を設定\n",
        "methods = {\n",
        "    \"Linear Regression\":            \"backdoor.linear_regression\",\n",
        "    \"PS Stratification\":            \"backdoor.propensity_score_stratification\",\n",
        "    \"PS Weighting\":                 \"backdoor.propensity_score_weighting\",\n",
        "    \"ForestDML (MetaLearner)\":      \"backdoor.econml.dml.CausalForestDML\"\n",
        "}\n",
        "\n",
        "results = []\n",
        "common = [\"degree\"]  # 交絡因子\n",
        "\n",
        "for country in merged[\"country\"].unique():\n",
        "    subset = merged[merged[\"country\"] == country]\n",
        "    # まずは二値化 treatment_bin, 連続は pagerank として扱う\n",
        "    for label, method_name in methods.items():\n",
        "        # 連続処理と二値処理、両方に対応させる\n",
        "        treat = \"treatment_bin\" if \"PS\" in label else \"pagerank\"\n",
        "        model = CausalModel(\n",
        "            data=subset,\n",
        "            treatment=treat,\n",
        "            outcome=\"cpi_score\",\n",
        "            common_causes=common\n",
        "        )\n",
        "        estimand = model.identify_effect()\n",
        "        try:\n",
        "            est = model.estimate_effect(estimand, method_name=method_name)\n",
        "        except Exception:\n",
        "            # 万が一失敗したら線形回帰にフォールバック\n",
        "            est = model.estimate_effect(\n",
        "                estimand,\n",
        "                method_name=\"backdoor.linear_regression\"\n",
        "            )\n",
        "        results.append({\n",
        "            \"country\": country,\n",
        "            \"method\":  label,\n",
        "            \"estimate\": est.value\n",
        "        })\n",
        "\n",
        "# DataFrame整形＆プロット\n",
        "df_res = pd.DataFrame(results)\n",
        "pivot = df_res.pivot(index=\"country\", columns=\"method\", values=\"estimate\")\n",
        "\n",
        "x = range(len(pivot))\n",
        "width = 0.2\n",
        "fig, ax = plt.subplots()\n",
        "for i, method in enumerate(pivot.columns):\n",
        "    ax.bar([xi + i*width for xi in x], pivot[method], width, label=method)\n",
        "\n",
        "ax.set_xticks([xi + width*1.5 for xi in x])\n",
        "ax.set_xticklabels(pivot.index)\n",
        "ax.set_xlabel(\"Country\")\n",
        "ax.set_ylabel(\"Estimated Causal Effect\")\n",
        "ax.set_title(\"Comparison of Estimation Methods by Country\")\n",
        "ax.legend()\n",
        "plt.tight_layout()\n",
        "plt.show()\n"
      ],
      "metadata": {
        "colab": {
          "base_uri": "https://localhost:8080/",
          "height": 487
        },
        "id": "6DdxSw6Q7luR",
        "outputId": "1d3b5a3a-b2b7-4267-e429-60c351cb78bb",
        "collapsed": true
      },
      "execution_count": 38,
      "outputs": [
        {
          "output_type": "display_data",
          "data": {
            "text/plain": [
              "<Figure size 640x480 with 1 Axes>"
            ],
            "image/png": "[encoded data removed]"
          },
          "metadata": {}
        }
      ]
    },
    {
      "cell_type": "code",
      "source": [],
      "metadata": {
        "id": "9hvcsvRgZyJN"
      },
      "execution_count": null,
      "outputs": []
    }
  ]
}